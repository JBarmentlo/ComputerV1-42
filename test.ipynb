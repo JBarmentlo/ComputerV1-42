{
 "cells": [
  {
   "cell_type": "code",
   "execution_count": 2,
   "metadata": {},
   "outputs": [],
   "source": [
    "from compooter.Polynome import Polynome\n",
    "from compooter.Monome import Monome"
   ]
  },
  {
   "cell_type": "code",
   "execution_count": 5,
   "metadata": {},
   "outputs": [
    {
     "name": "stdout",
     "output_type": "stream",
     "text": [
      "Polynome: 0 + 0 * X^1 + 0 * X^2\n",
      "-3 * X^2\n"
     ]
    },
    {
     "data": {
      "text/plain": [
       "2"
      ]
     },
     "execution_count": 5,
     "metadata": {},
     "output_type": "execute_result"
    }
   ],
   "source": [
    "p = Polynome()\n",
    "print(p)\n",
    "\n",
    "m = Monome(-3, 2)\n",
    "mm = Monome(15, 0)\n",
    "print(m)\n",
    "\n",
    "p = p + m + 2* mm\n",
    "p.degree"
   ]
  },
  {
   "cell_type": "code",
   "execution_count": 21,
   "metadata": {},
   "outputs": [
    {
     "data": {
      "text/plain": [
       "0"
      ]
     },
     "execution_count": 21,
     "metadata": {},
     "output_type": "execute_result"
    }
   ],
   "source": [
    "fil = filter(lambda x: x.c != 0 or x.d == 0, p.monomes)\n",
    "mappe = map(lambda x: x.d, fil)\n",
    "max(mappe)"
   ]
  },
  {
   "cell_type": "code",
   "execution_count": 105,
   "metadata": {},
   "outputs": [],
   "source": [
    "polystr = \"8 * X^0 - 6 * X^1 + 0 * X^2 - 5.6 * X^2 = 3 * X^0\""
   ]
  },
  {
   "cell_type": "code",
   "execution_count": 11,
   "metadata": {},
   "outputs": [
    {
     "data": {
      "text/plain": [
       "(['8 * X^0 ', ' 6 * X^1 + 0 * X^2 ', ' 5.6 * X^3 '], [' 3 * X^0'])"
      ]
     },
     "execution_count": 11,
     "metadata": {},
     "output_type": "execute_result"
    }
   ],
   "source": [
    "one, two = polystr.split(\"=\")\n",
    "one_bits = one.split(\"-\")\n",
    "two_bits = two.split(\"-\")\n",
    "one_bits, two_bits"
   ]
  },
  {
   "cell_type": "code",
   "execution_count": 21,
   "metadata": {},
   "outputs": [
    {
     "name": "stdout",
     "output_type": "stream",
     "text": [
      "['8 * X^0 ', ' 6 * X^1 ', ' 0 * X^2 ', ' 5.6 * X^3 ']\n",
      "['-', '+', '-']\n"
     ]
    }
   ],
   "source": [
    "import re\n",
    "\n",
    "print(re.split(\"[-+]\", one))\n",
    "print(list(filter(lambda x: x != '', re.split(\"[^-+]\", one))))\n"
   ]
  },
  {
   "cell_type": "code",
   "execution_count": 102,
   "metadata": {},
   "outputs": [
    {
     "data": {
      "text/plain": [
       "-8.0"
      ]
     },
     "execution_count": 102,
     "metadata": {},
     "output_type": "execute_result"
    }
   ],
   "source": [
    "def get_coeff(polystr: str):\n",
    "    starind = polystr.index(\"*\")\n",
    "    coef, *rest = polystr.split(\" * \")\n",
    "    coef = float(coef)\n",
    "    rest = \" * \".join(rest)\n",
    "    return coef, rest\n",
    "\n",
    "def get_degree(polystr: str):\n",
    "    degree, *_ = re.split(' - | \\+ ', polystr)\n",
    "    rest = polystr[len(degree):]\n",
    "    degree = degree.lstrip().rstrip()\n",
    "    d = int(degree[2:])\n",
    "    return d, rest\n",
    "\n",
    "def get_sign(polystr: str):\n",
    "    sign = polystr[0:3]\n",
    "    s = polystr[3:]\n",
    "    \n",
    "    if sign == \" + \":\n",
    "        return 1, s\n",
    "    elif sign == \" - \":\n",
    "        return -1, s\n",
    "    else:\n",
    "        raise ValueError(f\"Trying to get sign from:\\n{polystr}\")\n",
    "\n",
    "s = polystr\n",
    "c, s = get_coeff(s)\n",
    "d, s = get_degree(s)\n",
    "sign, s = get_sign(s)\n",
    "m = Monome(c * sign, d)\n",
    "m"
   ]
  },
  {
   "cell_type": "code",
   "execution_count": 107,
   "metadata": {},
   "outputs": [
    {
     "name": "stdout",
     "output_type": "stream",
     "text": [
      " - 6 * X^1 + 0 * X^2 - 5.6 * X^2 \n",
      " + 0 * X^2 - 5.6 * X^2 \n",
      " - 5.6 * X^2 \n",
      "\n"
     ]
    }
   ],
   "source": [
    "start_s = polystr.split(\"=\")[0]\n",
    "ms = []\n",
    "start_s = \" + \" + start_s\n",
    "s = start_s\n",
    "p = Polynome()\n",
    "while True:\n",
    "    sign, s = get_sign(s)\n",
    "    c, s = get_coeff(s)\n",
    "    d, s = get_degree(s)\n",
    "    m = Monome(c * sign, d)\n",
    "    ms.append(m)\n",
    "    p += m\n",
    "    print(s)\n",
    "    if len(s) == 0:\n",
    "        break"
   ]
  },
  {
   "cell_type": "code",
   "execution_count": 108,
   "metadata": {},
   "outputs": [
    {
     "data": {
      "text/plain": [
       "[8.0, -6.0 * X^1, 0.0 * X^2, -5.6 * X^2]"
      ]
     },
     "execution_count": 108,
     "metadata": {},
     "output_type": "execute_result"
    }
   ],
   "source": [
    "ms"
   ]
  }
 ],
 "metadata": {
  "kernelspec": {
   "display_name": "venv",
   "language": "python",
   "name": "python3"
  },
  "language_info": {
   "codemirror_mode": {
    "name": "ipython",
    "version": 3
   },
   "file_extension": ".py",
   "mimetype": "text/x-python",
   "name": "python",
   "nbconvert_exporter": "python",
   "pygments_lexer": "ipython3",
   "version": "3.10.12"
  }
 },
 "nbformat": 4,
 "nbformat_minor": 2
}
