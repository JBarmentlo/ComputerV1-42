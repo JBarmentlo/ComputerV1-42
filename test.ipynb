{
 "cells": [
  {
   "cell_type": "code",
   "execution_count": 65,
   "metadata": {},
   "outputs": [],
   "source": [
    "from compooter.Polynome import Polynome\n",
    "from compooter.Monome import Monome"
   ]
  },
  {
   "cell_type": "code",
   "execution_count": 66,
   "metadata": {},
   "outputs": [
    {
     "name": "stdout",
     "output_type": "stream",
     "text": [
      "Polynome: 0 * X^2 + 0 * X^1 + 0\n",
      "-3 * X^2\n"
     ]
    },
    {
     "data": {
      "text/plain": [
       "2"
      ]
     },
     "execution_count": 66,
     "metadata": {},
     "output_type": "execute_result"
    }
   ],
   "source": [
    "p = Polynome()\n",
    "print(p)\n",
    "\n",
    "m = Monome(-3, 2)\n",
    "mm = Monome(15, 0)\n",
    "print(m)\n",
    "\n",
    "p = p + m + 2* mm\n",
    "p.degree"
   ]
  },
  {
   "cell_type": "code",
   "execution_count": 67,
   "metadata": {},
   "outputs": [
    {
     "data": {
      "text/plain": [
       "2"
      ]
     },
     "execution_count": 67,
     "metadata": {},
     "output_type": "execute_result"
    }
   ],
   "source": [
    "fil = filter(lambda x: x.c != 0 or x.d == 0, p.monomes)\n",
    "mappe = map(lambda x: x.d, fil)\n",
    "max(mappe)"
   ]
  },
  {
   "cell_type": "code",
   "execution_count": 105,
   "metadata": {},
   "outputs": [],
   "source": [
    "polystr = \"8 * X^0 - 6 * X^1 + 0 * X^2 - 5.6 * X^2 = 3 * X^0\""
   ]
  },
  {
   "cell_type": "code",
   "execution_count": 68,
   "metadata": {},
   "outputs": [
    {
     "ename": "ValueError",
     "evalue": "not enough values to unpack (expected 2, got 1)",
     "output_type": "error",
     "traceback": [
      "\u001b[0;31m---------------------------------------------------------------------------\u001b[0m",
      "\u001b[0;31mValueError\u001b[0m                                Traceback (most recent call last)",
      "\u001b[1;32m/home/jbarmentlo/Code/42/computerv1/test.ipynb Cell 5\u001b[0m line \u001b[0;36m1\n\u001b[0;32m----> <a href='vscode-notebook-cell:/home/jbarmentlo/Code/42/computerv1/test.ipynb#W4sZmlsZQ%3D%3D?line=0'>1</a>\u001b[0m one, two \u001b[39m=\u001b[39m polystr\u001b[39m.\u001b[39msplit(\u001b[39m\"\u001b[39m\u001b[39m=\u001b[39m\u001b[39m\"\u001b[39m)\n\u001b[1;32m      <a href='vscode-notebook-cell:/home/jbarmentlo/Code/42/computerv1/test.ipynb#W4sZmlsZQ%3D%3D?line=1'>2</a>\u001b[0m one_bits \u001b[39m=\u001b[39m one\u001b[39m.\u001b[39msplit(\u001b[39m\"\u001b[39m\u001b[39m-\u001b[39m\u001b[39m\"\u001b[39m)\n\u001b[1;32m      <a href='vscode-notebook-cell:/home/jbarmentlo/Code/42/computerv1/test.ipynb#W4sZmlsZQ%3D%3D?line=2'>3</a>\u001b[0m two_bits \u001b[39m=\u001b[39m two\u001b[39m.\u001b[39msplit(\u001b[39m\"\u001b[39m\u001b[39m-\u001b[39m\u001b[39m\"\u001b[39m)\n",
      "\u001b[0;31mValueError\u001b[0m: not enough values to unpack (expected 2, got 1)"
     ]
    }
   ],
   "source": [
    "one, two = polystr.split(\"=\")\n",
    "one_bits = one.split(\"-\")\n",
    "two_bits = two.split(\"-\")\n",
    "one_bits, two_bits"
   ]
  },
  {
   "cell_type": "code",
   "execution_count": 21,
   "metadata": {},
   "outputs": [
    {
     "name": "stdout",
     "output_type": "stream",
     "text": [
      "['8 * X^0 ', ' 6 * X^1 ', ' 0 * X^2 ', ' 5.6 * X^3 ']\n",
      "['-', '+', '-']\n"
     ]
    }
   ],
   "source": [
    "import re\n",
    "\n",
    "print(re.split(\"[-+]\", one))\n",
    "print(list(filter(lambda x: x != '', re.split(\"[^-+]\", one))))\n"
   ]
  },
  {
   "cell_type": "code",
   "execution_count": 102,
   "metadata": {},
   "outputs": [
    {
     "data": {
      "text/plain": [
       "-8.0"
      ]
     },
     "execution_count": 102,
     "metadata": {},
     "output_type": "execute_result"
    }
   ],
   "source": [
    "def get_coeff(polystr: str):\n",
    "    starind = polystr.index(\"*\")\n",
    "    coef, *rest = polystr.split(\" * \")\n",
    "    coef = float(coef)\n",
    "    rest = \" * \".join(rest)\n",
    "    return coef, rest\n",
    "\n",
    "def get_degree(polystr: str):\n",
    "    degree, *_ = re.split(' - | \\+ ', polystr)\n",
    "    rest = polystr[len(degree):]\n",
    "    degree = degree.lstrip().rstrip()\n",
    "    d = int(degree[2:])\n",
    "    return d, rest\n",
    "\n",
    "def get_sign(polystr: str):\n",
    "    sign = polystr[0:3]\n",
    "    s = polystr[3:]\n",
    "    \n",
    "    if sign == \" + \":\n",
    "        return 1, s\n",
    "    elif sign == \" - \":\n",
    "        return -1, s\n",
    "    else:\n",
    "        raise ValueError(f\"Trying to get sign from:\\n{polystr}\")\n",
    "\n",
    "s = polystr\n",
    "c, s = get_coeff(s)\n",
    "d, s = get_degree(s)\n",
    "sign, s = get_sign(s)\n",
    "m = Monome(c * sign, d)\n",
    "m"
   ]
  },
  {
   "cell_type": "code",
   "execution_count": 109,
   "metadata": {},
   "outputs": [
    {
     "name": "stdout",
     "output_type": "stream",
     "text": [
      " - 6 * X^1 + 0 * X^2 - 5.6 * X^2 \n",
      " + 0 * X^2 - 5.6 * X^2 \n",
      " - 5.6 * X^2 \n",
      "\n"
     ]
    }
   ],
   "source": [
    "start_s = polystr.split(\"=\")[0]\n",
    "ms = []\n",
    "start_s = \" + \" + start_s\n",
    "s = start_s\n",
    "p = Polynome()\n",
    "while True:\n",
    "    sign, s = get_sign(s)\n",
    "    c, s = get_coeff(s)\n",
    "    d, s = get_degree(s)\n",
    "    m = Monome(c * sign, d)\n",
    "    ms.append(m)\n",
    "    p += m\n",
    "    print(s)\n",
    "    if len(s) == 0:\n",
    "        break"
   ]
  },
  {
   "cell_type": "code",
   "execution_count": 1,
   "metadata": {},
   "outputs": [
    {
     "name": "stdout",
     "output_type": "stream",
     "text": [
      "Polynome: 2.0 + 4.0 * X^1 + 123.0 * X^2\n"
     ]
    },
    {
     "data": {
      "text/plain": [
       "Polynome: 2.0 + 4.0 * X^1 + 123.0 * X^2"
      ]
     },
     "execution_count": 1,
     "metadata": {},
     "output_type": "execute_result"
    }
   ],
   "source": [
    "from compooter.Parser import PolynomeParser\n",
    "from compooter.Monome import Monome\n",
    "from compooter.Polynome import Polynome\n",
    "\n",
    "# polystr = \"8 * X^0 - 6 * X^1 + 0 * X^2 - 5 * X^2 = 3 * X^0\"\n",
    "# polystr = \"8 * X^0 - 6 * X^1 + 0 * X^2 - 5 * X^2 = 3 * X^0\"\n",
    "# polystr = \"-8 * X^0 - 6 * X^1 + 0 * X^2 - 5.6 * X^2+12 * X^1\"\n",
    "a, b, c = 123, 4, 2\n",
    "polystr = f\"{a} * X^2 + {b} * X^1 + {c} * X^0\"\n",
    "\n",
    "p = PolynomeParser()\n",
    "# if len(polystr.split(\"=\")) == 2:\n",
    "#     one, two = polystr.split(\"=\")\n",
    "#     poly = p.parse(one) - p.parse(two)\n",
    "\n",
    "# if len(polystr.split(\"=\")) == 1:\n",
    "#     poly = p.parse(polystr)\n",
    "poly = p.parse(polystr)\n",
    "\n",
    "print(poly)\n",
    "poly.solve()\n",
    "poly.reduced()\n",
    "poly"
   ]
  },
  {
   "cell_type": "code",
   "execution_count": 4,
   "metadata": {},
   "outputs": [
    {
     "ename": "KeyboardInterrupt",
     "evalue": "",
     "output_type": "error",
     "traceback": [
      "\u001b[0;31m---------------------------------------------------------------------------\u001b[0m",
      "\u001b[0;31mKeyboardInterrupt\u001b[0m                         Traceback (most recent call last)",
      "\u001b[1;32m/home/jbarmentlo/Code/42/computerv1/test.ipynb Cell 10\u001b[0m line \u001b[0;36m1\n\u001b[1;32m      <a href='vscode-notebook-cell:/home/jbarmentlo/Code/42/computerv1/test.ipynb#X13sZmlsZQ%3D%3D?line=8'>9</a>\u001b[0m c \u001b[39m=\u001b[39m random\u001b[39m.\u001b[39mrandom() \u001b[39m*\u001b[39m \u001b[39m200\u001b[39m \u001b[39m-\u001b[39m \u001b[39m100\u001b[39m\n\u001b[1;32m     <a href='vscode-notebook-cell:/home/jbarmentlo/Code/42/computerv1/test.ipynb#X13sZmlsZQ%3D%3D?line=10'>11</a>\u001b[0m p \u001b[39m=\u001b[39m Polynome\u001b[39m.\u001b[39mfrom_coeffs(a, b, c)\n\u001b[0;32m---> <a href='vscode-notebook-cell:/home/jbarmentlo/Code/42/computerv1/test.ipynb#X13sZmlsZQ%3D%3D?line=11'>12</a>\u001b[0m solutions \u001b[39m=\u001b[39m p\u001b[39m.\u001b[39;49msolve()\n\u001b[1;32m     <a href='vscode-notebook-cell:/home/jbarmentlo/Code/42/computerv1/test.ipynb#X13sZmlsZQ%3D%3D?line=12'>13</a>\u001b[0m \u001b[39mfor\u001b[39;00m s \u001b[39min\u001b[39;00m solutions:\n\u001b[1;32m     <a href='vscode-notebook-cell:/home/jbarmentlo/Code/42/computerv1/test.ipynb#X13sZmlsZQ%3D%3D?line=13'>14</a>\u001b[0m     res \u001b[39m=\u001b[39m p\u001b[39m.\u001b[39mevaluate(s)\n",
      "File \u001b[0;32m~/Desktop/Code/42/computerv1/compooter/Polynome.py:41\u001b[0m, in \u001b[0;36mPolynome.solve\u001b[0;34m(self)\u001b[0m\n\u001b[1;32m     39\u001b[0m \u001b[39mdef\u001b[39;00m \u001b[39msolve\u001b[39m(\u001b[39mself\u001b[39m):\n\u001b[1;32m     40\u001b[0m     \u001b[39mif\u001b[39;00m \u001b[39mself\u001b[39m\u001b[39m.\u001b[39mdegree \u001b[39m==\u001b[39m \u001b[39m2\u001b[39m:\n\u001b[0;32m---> 41\u001b[0m         \u001b[39mreturn\u001b[39;00m \u001b[39mself\u001b[39;49m\u001b[39m.\u001b[39;49m_second_degree_solution()\n",
      "File \u001b[0;32m~/Desktop/Code/42/computerv1/compooter/Polynome.py:53\u001b[0m, in \u001b[0;36mPolynome._second_degree_solution\u001b[0;34m(self)\u001b[0m\n\u001b[1;32m     51\u001b[0m \u001b[39mif\u001b[39;00m discriminant \u001b[39m<\u001b[39m \u001b[39m0\u001b[39m:\n\u001b[1;32m     52\u001b[0m     thingy \u001b[39m=\u001b[39m math\u001b[39m.\u001b[39msqrt(\u001b[39m-\u001b[39mdiscriminant) \u001b[39m/\u001b[39m (\u001b[39m2\u001b[39m\u001b[39m*\u001b[39ma)\n\u001b[0;32m---> 53\u001b[0m     \u001b[39mreturn\u001b[39;00m \u001b[39mcomplex\u001b[39;49m(real \u001b[39m=\u001b[39;49m \u001b[39m-\u001b[39;49mb \u001b[39m/\u001b[39;49m (\u001b[39m2\u001b[39;49m\u001b[39m*\u001b[39;49ma), imag \u001b[39m=\u001b[39;49m thingy), \u001b[39mcomplex\u001b[39m(real \u001b[39m=\u001b[39m \u001b[39m-\u001b[39mb \u001b[39m/\u001b[39m (\u001b[39m2\u001b[39m\u001b[39m*\u001b[39ma), imag \u001b[39m=\u001b[39m \u001b[39m-\u001b[39mthingy)\n\u001b[1;32m     55\u001b[0m \u001b[39mraise\u001b[39;00m \u001b[39mValueError\u001b[39;00m(\u001b[39m\"\u001b[39m\u001b[39mThis should never print\u001b[39m\u001b[39m\"\u001b[39m, \u001b[39mself\u001b[39m)\n",
      "\u001b[0;31mKeyboardInterrupt\u001b[0m: "
     ]
    }
   ],
   "source": [
    "import random\n",
    "import math\n",
    "\n",
    "kaput = False\n",
    "i = 0\n",
    "while True:\n",
    "    a = random.random() * 200 - 100\n",
    "    b = random.random() * 200 - 100\n",
    "    c = random.random() * 200 - 100\n",
    "\n",
    "    p = Polynome.from_coeffs(a, b, c)\n",
    "    solutions = p.solve()\n",
    "    for s in solutions:\n",
    "        res = p.evaluate(s)\n",
    "        val = math.sqrt(res.imag ** 2 + res.real ** 2)\n",
    "        if val > 1e-6:\n",
    "            print(p)\n",
    "            print(val)\n",
    "            kaput = True\n",
    "            break\n",
    "    \n",
    "    if kaput:\n",
    "        break\n",
    "    \n",
    "    i += 1"
   ]
  },
  {
   "cell_type": "code",
   "execution_count": 5,
   "metadata": {},
   "outputs": [
    {
     "data": {
      "text/plain": [
       "2847156"
      ]
     },
     "execution_count": 5,
     "metadata": {},
     "output_type": "execute_result"
    }
   ],
   "source": [
    "# def add_monome_string()\n",
    "\"5 * X^0 = 5 * X^0\"\n",
    "\"4 * X^0 = 8 * X^0\"\n",
    "\n",
    "\"5 * X^0 = 4 * X^0 + 7 * X^1\"\n",
    "\n",
    "\n",
    "\"5 * X^0 + 13 * X^1 + 3 * X^2 = 1 * X^0 + 1 * X^1\"\n",
    "\"6 * X^0 + 11 * X^1 + 5 * X^2 = 1 * X^0 + 1 * X^1\"\n",
    "\"5 * X^0 + 3 * X^1 + 3 * X^2 = 1 * X^0 + 0 * X^1\""
   ]
  }
 ],
 "metadata": {
  "kernelspec": {
   "display_name": "venv",
   "language": "python",
   "name": "python3"
  },
  "language_info": {
   "codemirror_mode": {
    "name": "ipython",
    "version": 3
   },
   "file_extension": ".py",
   "mimetype": "text/x-python",
   "name": "python",
   "nbconvert_exporter": "python",
   "pygments_lexer": "ipython3",
   "version": "3.10.12"
  }
 },
 "nbformat": 4,
 "nbformat_minor": 2
}
