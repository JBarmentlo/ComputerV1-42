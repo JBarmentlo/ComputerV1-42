{
 "cells": [
  {
   "cell_type": "code",
   "execution_count": 1,
   "metadata": {},
   "outputs": [],
   "source": [
    "from compooter import Monome, Polynome, PolynomeParser\n",
    "import random\n",
    "import math\n",
    "from tqdm.notebook import tqdm\n"
   ]
  },
  {
   "cell_type": "markdown",
   "metadata": {},
   "source": [
    "# Random Tests"
   ]
  },
  {
   "cell_type": "markdown",
   "metadata": {},
   "source": [
    "## Random second degree polynomes"
   ]
  },
  {
   "cell_type": "code",
   "execution_count": 2,
   "metadata": {},
   "outputs": [
    {
     "data": {
      "application/vnd.jupyter.widget-view+json": {
       "model_id": "5297137606ed41d494a198df35a47614",
       "version_major": 2,
       "version_minor": 0
      },
      "text/plain": [
       "Testing random polynome solutions:   0%|          | 0/1000000 [00:00<?, ?it/s]"
      ]
     },
     "metadata": {},
     "output_type": "display_data"
    }
   ],
   "source": [
    "for i in tqdm(range(100000), desc=\"Testing random polynome solutions\"):\n",
    "    a = random.random() * 200 - 100\n",
    "    b = random.random() * 200 - 100\n",
    "    c = random.random() * 200 - 100\n",
    "\n",
    "    p = Polynome.from_coeffs(a, b, c)\n",
    "    solutions = p.solve()\n",
    "    for s in solutions:\n",
    "        res = p.evaluate(s)\n",
    "        val = math.sqrt(res.imag ** 2 + res.real ** 2)\n",
    "        if val > 1e-6:\n",
    "            print(f\"Unsatisfying solution to polynome: {p}\")\n",
    "            print(f\"{res = }, size of error {val}\")"
   ]
  },
  {
   "cell_type": "markdown",
   "metadata": {},
   "source": [
    "## Random first degree polynomes"
   ]
  },
  {
   "cell_type": "code",
   "execution_count": 3,
   "metadata": {},
   "outputs": [
    {
     "data": {
      "application/vnd.jupyter.widget-view+json": {
       "model_id": "324a4aa3b2ce4c80af1a4b1613ac50bd",
       "version_major": 2,
       "version_minor": 0
      },
      "text/plain": [
       "Testing random polynome solutions:   0%|          | 0/1000000 [00:00<?, ?it/s]"
      ]
     },
     "metadata": {},
     "output_type": "display_data"
    }
   ],
   "source": [
    "for i in tqdm(range(100000), desc=\"Testing random polynome solutions\"):\n",
    "    a = 0\n",
    "    b = random.random() * 200 - 100\n",
    "    c = random.random() * 200 - 100\n",
    "\n",
    "    p = Polynome.from_coeffs(a, b, c)\n",
    "    solution = p.solve()\n",
    "    res = p.evaluate(solution)\n",
    "    val = math.sqrt(res.imag ** 2 + res.real ** 2)\n",
    "    if val > 1e-6:\n",
    "        print(f\"Unsatisfying solution to polynome: {p}\")\n",
    "        print(f\"{res = }, size of error {val}\")"
   ]
  },
  {
   "cell_type": "markdown",
   "metadata": {},
   "source": [
    "## Zero degree polynomes: Null"
   ]
  },
  {
   "cell_type": "code",
   "execution_count": 4,
   "metadata": {},
   "outputs": [
    {
     "name": "stdout",
     "output_type": "stream",
     "text": [
      "All numbers are solutions\n"
     ]
    }
   ],
   "source": [
    "a = 0\n",
    "b = 0\n",
    "c = 0\n",
    "\n",
    "p = Polynome.from_coeffs(a, b, c)\n",
    "solution = p.solve()"
   ]
  },
  {
   "cell_type": "markdown",
   "metadata": {},
   "source": [
    "## Zero degree polynomes: Non-Null"
   ]
  },
  {
   "cell_type": "code",
   "execution_count": 5,
   "metadata": {},
   "outputs": [
    {
     "name": "stdout",
     "output_type": "stream",
     "text": [
      "No solution\n"
     ]
    }
   ],
   "source": [
    "a = 0\n",
    "b = 0\n",
    "c = 1\n",
    "\n",
    "p = Polynome.from_coeffs(a, b, c)\n",
    "solution = p.solve()"
   ]
  },
  {
   "cell_type": "markdown",
   "metadata": {},
   "source": [
    "# String Tests"
   ]
  },
  {
   "cell_type": "code",
   "execution_count": 6,
   "metadata": {},
   "outputs": [],
   "source": [
    "parser = PolynomeParser()"
   ]
  },
  {
   "cell_type": "markdown",
   "metadata": {},
   "source": [
    "### Reduced form"
   ]
  },
  {
   "cell_type": "code",
   "execution_count": 7,
   "metadata": {},
   "outputs": [
    {
     "name": "stdout",
     "output_type": "stream",
     "text": [
      "-5.5 * X^1 = 0\n"
     ]
    }
   ],
   "source": [
    "polystr = \"0 * X^0 - 5.5 * X^1 + 0 * X^2\"\n",
    "parser.parse_and_print(polystr)"
   ]
  },
  {
   "cell_type": "markdown",
   "metadata": {},
   "source": [
    "### Input tests"
   ]
  },
  {
   "cell_type": "code",
   "execution_count": 12,
   "metadata": {},
   "outputs": [
    {
     "name": "stdout",
     "output_type": "stream",
     "text": [
      "7.3 * X^4 + -10.0 = 0\n"
     ]
    }
   ],
   "source": [
    "parser.parse_and_print(\"-5 * X^0 = 5 * X^0 + -7.3 * X^4\")\n",
    "parser.parse_and_print(\"-5 * X^0 = 5 * X^0 + -7.3 * X^4\")"
   ]
  },
  {
   "cell_type": "code",
   "execution_count": null,
   "metadata": {},
   "outputs": [],
   "source": [
    "\"5 * X^0 = 5 * X^0\"\n",
    "\"4 * X^0 = 8 * X^0\"\n",
    "\n",
    "\"5 * X^0 = 4 * X^0 + 7 * X^1\"\n",
    "\n",
    "\n",
    "\"5 * X^0 + 13 * X^1 + 3 * X^2 = 1 * X^0 + 1 * X^1\"\n",
    "\"6 * X^0 + 11 * X^1 + 5 * X^2 = 1 * X^0 + 1 * X^1\"\n",
    "\"5 * X^0 + 3 * X^1 + 3 * X^2 = 1 * X^0 + 0 * X^1\""
   ]
  },
  {
   "cell_type": "code",
   "execution_count": null,
   "metadata": {},
   "outputs": [
    {
     "name": "stdout",
     "output_type": "stream",
     "text": [
      "0 = 0\n"
     ]
    }
   ],
   "source": [
    "polystr = \"10 * X^0 - 5.5 * X^1 = 10 * X^0 - 5.5 * X^1\"\n",
    "\n",
    "parser.parse_and_print(polystr)"
   ]
  }
 ],
 "metadata": {
  "kernelspec": {
   "display_name": "venv",
   "language": "python",
   "name": "python3"
  },
  "language_info": {
   "codemirror_mode": {
    "name": "ipython",
    "version": 3
   },
   "file_extension": ".py",
   "mimetype": "text/x-python",
   "name": "python",
   "nbconvert_exporter": "python",
   "pygments_lexer": "ipython3",
   "version": "3.10.12"
  }
 },
 "nbformat": 4,
 "nbformat_minor": 2
}
