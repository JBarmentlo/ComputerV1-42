{
 "cells": [
  {
   "cell_type": "code",
   "execution_count": 1,
   "metadata": {},
   "outputs": [],
   "source": [
    "from compooter import Monome, Polynome, PolynomeParser\n",
    "import random\n",
    "import math\n",
    "from tqdm.notebook import tqdm\n"
   ]
  },
  {
   "cell_type": "markdown",
   "metadata": {},
   "source": [
    "## Random second degree polynomes"
   ]
  },
  {
   "cell_type": "code",
   "execution_count": 3,
   "metadata": {},
   "outputs": [
    {
     "data": {
      "application/vnd.jupyter.widget-view+json": {
       "model_id": "fcc82b4e5f6246dfaacddf14794644e2",
       "version_major": 2,
       "version_minor": 0
      },
      "text/plain": [
       "Testing random polynome solutions:   0%|          | 0/1000000 [00:00<?, ?it/s]"
      ]
     },
     "metadata": {},
     "output_type": "display_data"
    }
   ],
   "source": [
    "\n",
    "kaput = False\n",
    "for i in tqdm(range(1000000), desc=\"Testing random polynome solutions\"):\n",
    "    a = random.random() * 200 - 100\n",
    "    b = random.random() * 200 - 100\n",
    "    c = random.random() * 200 - 100\n",
    "\n",
    "    p = Polynome.from_coeffs(a, b, c)\n",
    "    solutions = p.solve()\n",
    "    for s in solutions:\n",
    "        res = p.evaluate(s)\n",
    "        val = math.sqrt(res.imag ** 2 + res.real ** 2)\n",
    "        if val > 1e-6:\n",
    "            print(f\"Unsatisfying solution to polynome: {p}\")\n",
    "            print(f\"{res = }, size of error {val}\")"
   ]
  },
  {
   "cell_type": "markdown",
   "metadata": {},
   "source": [
    "## Random first degree polynomes"
   ]
  },
  {
   "cell_type": "code",
   "execution_count": 2,
   "metadata": {},
   "outputs": [
    {
     "ename": "NameError",
     "evalue": "name 'tqdm' is not defined",
     "output_type": "error",
     "traceback": [
      "\u001b[0;31m---------------------------------------------------------------------------\u001b[0m",
      "\u001b[0;31mNameError\u001b[0m                                 Traceback (most recent call last)",
      "\u001b[1;32m/home/jbarmentlo/Code/42/computerv1/tests.ipynb Cell 5\u001b[0m line \u001b[0;36m1\n\u001b[0;32m----> <a href='vscode-notebook-cell:/home/jbarmentlo/Code/42/computerv1/tests.ipynb#W3sZmlsZQ%3D%3D?line=0'>1</a>\u001b[0m \u001b[39mfor\u001b[39;00m i \u001b[39min\u001b[39;00m tqdm(\u001b[39mrange\u001b[39m(\u001b[39m1000000\u001b[39m), desc\u001b[39m=\u001b[39m\u001b[39m\"\u001b[39m\u001b[39mTesting random polynome solutions\u001b[39m\u001b[39m\"\u001b[39m):\n\u001b[1;32m      <a href='vscode-notebook-cell:/home/jbarmentlo/Code/42/computerv1/tests.ipynb#W3sZmlsZQ%3D%3D?line=1'>2</a>\u001b[0m     a \u001b[39m=\u001b[39m \u001b[39m0\u001b[39m\n\u001b[1;32m      <a href='vscode-notebook-cell:/home/jbarmentlo/Code/42/computerv1/tests.ipynb#W3sZmlsZQ%3D%3D?line=2'>3</a>\u001b[0m     b \u001b[39m=\u001b[39m random\u001b[39m.\u001b[39mrandom() \u001b[39m*\u001b[39m \u001b[39m200\u001b[39m \u001b[39m-\u001b[39m \u001b[39m100\u001b[39m\n",
      "\u001b[0;31mNameError\u001b[0m: name 'tqdm' is not defined"
     ]
    }
   ],
   "source": [
    "for i in tqdm(range(1000000), desc=\"Testing random polynome solutions\"):\n",
    "    a = 0\n",
    "    b = random.random() * 200 - 100\n",
    "    c = random.random() * 200 - 100\n",
    "\n",
    "    p = Polynome.from_coeffs(a, b, c)\n",
    "    solution = p.solve()\n",
    "    res = p.evaluate(solution)\n",
    "    val = math.sqrt(res.imag ** 2 + res.real ** 2)\n",
    "    if val > 1e-6:\n",
    "        print(f\"Unsatisfying solution to polynome: {p}\")\n",
    "        print(f\"{res = }, size of error {val}\")"
   ]
  },
  {
   "cell_type": "code",
   "execution_count": 24,
   "metadata": {},
   "outputs": [
    {
     "data": {
      "text/plain": [
       "31.28040480487107 * X^1 + -60.27724084409305"
      ]
     },
     "execution_count": 24,
     "metadata": {},
     "output_type": "execute_result"
    }
   ],
   "source": [
    "solution\n",
    "p"
   ]
  },
  {
   "cell_type": "code",
   "execution_count": 23,
   "metadata": {},
   "outputs": [
    {
     "data": {
      "text/plain": [
       "-59.253990260736096"
      ]
     },
     "execution_count": 23,
     "metadata": {},
     "output_type": "execute_result"
    }
   ],
   "source": [
    "solution * 31.28040480487107  - 60.27724084409305"
   ]
  }
 ],
 "metadata": {
  "kernelspec": {
   "display_name": "venv",
   "language": "python",
   "name": "python3"
  },
  "language_info": {
   "codemirror_mode": {
    "name": "ipython",
    "version": 3
   },
   "file_extension": ".py",
   "mimetype": "text/x-python",
   "name": "python",
   "nbconvert_exporter": "python",
   "pygments_lexer": "ipython3",
   "version": "3.10.12"
  }
 },
 "nbformat": 4,
 "nbformat_minor": 2
}
