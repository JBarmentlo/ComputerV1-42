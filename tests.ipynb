{
 "cells": [
  {
   "cell_type": "code",
   "execution_count": 1,
   "metadata": {},
   "outputs": [],
   "source": [
    "from compooter import Monome, Polynome, PolynomeParser\n",
    "import random\n",
    "import math\n",
    "from tqdm.notebook import tqdm\n"
   ]
  },
  {
   "cell_type": "markdown",
   "metadata": {},
   "source": [
    "# Random Tests"
   ]
  },
  {
   "cell_type": "markdown",
   "metadata": {},
   "source": [
    "## Random second degree polynomes"
   ]
  },
  {
   "cell_type": "code",
   "execution_count": 2,
   "metadata": {},
   "outputs": [
    {
     "data": {
      "application/vnd.jupyter.widget-view+json": {
       "model_id": "b67446da65dd4b0c9b62c94d540e927d",
       "version_major": 2,
       "version_minor": 0
      },
      "text/plain": [
       "Testing random polynome solutions:   0%|          | 0/100000 [00:00<?, ?it/s]"
      ]
     },
     "metadata": {},
     "output_type": "display_data"
    }
   ],
   "source": [
    "for i in tqdm(range(100000), desc=\"Testing random polynome solutions\"):\n",
    "    a = random.random() * 200 - 100\n",
    "    b = random.random() * 200 - 100\n",
    "    c = random.random() * 200 - 100\n",
    "\n",
    "    p = Polynome.from_coeffs(a, b, c)\n",
    "    solutions = p.solve()\n",
    "    for s in solutions:\n",
    "        res = p.evaluate(s)\n",
    "        val = math.sqrt(res.imag ** 2 + res.real ** 2)\n",
    "        if val > 1e-6:\n",
    "            print(f\"Unsatisfying solution to polynome: {p}\")\n",
    "            print(f\"{res = }, size of error {val}\")"
   ]
  },
  {
   "cell_type": "markdown",
   "metadata": {},
   "source": [
    "## Random first degree polynomes"
   ]
  },
  {
   "cell_type": "code",
   "execution_count": 3,
   "metadata": {},
   "outputs": [
    {
     "data": {
      "application/vnd.jupyter.widget-view+json": {
       "model_id": "90aeb8fdb8f94f119ad3a9f192202a37",
       "version_major": 2,
       "version_minor": 0
      },
      "text/plain": [
       "Testing random polynome solutions:   0%|          | 0/100000 [00:00<?, ?it/s]"
      ]
     },
     "metadata": {},
     "output_type": "display_data"
    }
   ],
   "source": [
    "for i in tqdm(range(100000), desc=\"Testing random polynome solutions\"):\n",
    "    a = 0\n",
    "    b = random.random() * 200 - 100\n",
    "    c = random.random() * 200 - 100\n",
    "\n",
    "    p = Polynome.from_coeffs(a, b, c)\n",
    "    solution = p.solve()\n",
    "    res = p.evaluate(solution)\n",
    "    val = math.sqrt(res.imag ** 2 + res.real ** 2)\n",
    "    if val > 1e-6:\n",
    "        print(f\"Unsatisfying solution to polynome: {p}\")\n",
    "        print(f\"{res = }, size of error {val}\")"
   ]
  },
  {
   "cell_type": "markdown",
   "metadata": {},
   "source": [
    "## Zero degree polynomes: Null"
   ]
  },
  {
   "cell_type": "code",
   "execution_count": 4,
   "metadata": {},
   "outputs": [
    {
     "name": "stdout",
     "output_type": "stream",
     "text": [
      "All numbers are solutions\n"
     ]
    }
   ],
   "source": [
    "a = 0\n",
    "b = 0\n",
    "c = 0\n",
    "\n",
    "p = Polynome.from_coeffs(a, b, c)\n",
    "solution = p.solve()"
   ]
  },
  {
   "cell_type": "markdown",
   "metadata": {},
   "source": [
    "## Zero degree polynomes: Non-Null"
   ]
  },
  {
   "cell_type": "code",
   "execution_count": 5,
   "metadata": {},
   "outputs": [
    {
     "name": "stdout",
     "output_type": "stream",
     "text": [
      "No solution\n"
     ]
    }
   ],
   "source": [
    "a = 0\n",
    "b = 0\n",
    "c = 1\n",
    "\n",
    "p = Polynome.from_coeffs(a, b, c)\n",
    "solution = p.solve()"
   ]
  },
  {
   "cell_type": "markdown",
   "metadata": {},
   "source": [
    "# String Tests"
   ]
  },
  {
   "cell_type": "code",
   "execution_count": 6,
   "metadata": {},
   "outputs": [],
   "source": [
    "parser = PolynomeParser()"
   ]
  },
  {
   "cell_type": "markdown",
   "metadata": {},
   "source": [
    "### Reduced form"
   ]
  },
  {
   "cell_type": "code",
   "execution_count": 7,
   "metadata": {},
   "outputs": [
    {
     "name": "stdout",
     "output_type": "stream",
     "text": [
      "-5.5 * X^1 = 0\n"
     ]
    }
   ],
   "source": [
    "polystr = \"0 * X^0 - 5.5 * X^1 + 0 * X^2\"\n",
    "parser.parse_and_print(polystr)"
   ]
  },
  {
   "cell_type": "markdown",
   "metadata": {},
   "source": [
    "### Input tests"
   ]
  },
  {
   "cell_type": "markdown",
   "metadata": {},
   "source": [
    "#### Reduced Forms"
   ]
  },
  {
   "cell_type": "code",
   "execution_count": 8,
   "metadata": {},
   "outputs": [
    {
     "name": "stdout",
     "output_type": "stream",
     "text": [
      "7.3 * X^4 + -10.0 = 0\n"
     ]
    }
   ],
   "source": [
    "parser.parse_and_print(\"-0 * X^12 -5 * X^0 = 5 * X^0 + -7.3 * X^4\")"
   ]
  },
  {
   "cell_type": "code",
   "execution_count": 9,
   "metadata": {},
   "outputs": [
    {
     "name": "stdout",
     "output_type": "stream",
     "text": [
      "-10.0 = 0\n"
     ]
    }
   ],
   "source": [
    "parser.parse_and_print(\"-5 * X^0 -7.3 * X^4 = 5 * X^0 + -7.3 * X^4\")"
   ]
  },
  {
   "cell_type": "code",
   "execution_count": 10,
   "metadata": {},
   "outputs": [
    {
     "name": "stdout",
     "output_type": "stream",
     "text": [
      "0 = 0\n"
     ]
    }
   ],
   "source": [
    "parser.parse_and_print(\"\")"
   ]
  },
  {
   "cell_type": "code",
   "execution_count": 11,
   "metadata": {},
   "outputs": [
    {
     "name": "stdout",
     "output_type": "stream",
     "text": [
      "All numbers are solutions\n",
      "All numbers are solutions\n",
      "0.00\n",
      "\n",
      "There is one solution 1.14\n",
      "0.00\n",
      "\n",
      "Nul discriminant.\n",
      "There is 1 solution: 0.00\n",
      "0.00\n",
      "\n",
      "Strictly positive discriminant.\n",
      "There is 1 solution: -1.00\n",
      "0.00\n",
      "\n",
      "Negative discriminant.\n",
      "There are 2 solution: -0.00+2.95j, -0.00-2.95j\n",
      "-0.00+0.00j\n",
      "\n",
      "Negative discriminant.\n",
      "There are 2 solution: -0.50+1.44j, -0.50-1.44j\n",
      "-0.00+0.00j\n",
      "\n"
     ]
    }
   ],
   "source": [
    "\n",
    "poly = parser.parse(\"-8 * X^1 = -8 * X^1\")\n",
    "poly.solve_print()\n",
    "print(f\"{poly.evaluate(poly.solve()[0]):.2f}\")\n",
    "print()\n",
    "\n",
    "poly = parser.parse(\"12 * X^0 = 4 * X^0 + 7 * X^1\")\n",
    "poly.solve_print()\n",
    "print(f\"{poly.evaluate(poly.solve()):.2f}\")\n",
    "print()\n",
    "\n",
    "\n",
    "poly = parser.parse(\"1 * X^2\")\n",
    "poly.solve_print()\n",
    "print(f\"{poly.evaluate(poly.solve()[0]):.2f}\")\n",
    "print()\n",
    "\n",
    "poly = parser.parse(\"1 * X^2 - 1 * X^0\")\n",
    "poly.solve_print()\n",
    "print(f\"{poly.evaluate(poly.solve()[0]):.2f}\")\n",
    "print()\n",
    "\n",
    "poly = parser.parse(\"62 * X^0 + 1 * X^1 + 7 * X^2 = 1 * X^0 + 1 * X^1\")\n",
    "poly.solve_print()\n",
    "print(f\"{poly.evaluate(poly.solve()[0]):.2f}\")\n",
    "print()\n",
    "\n",
    "poly = parser.parse(\"8 * X^0 + 3 * X^1 + 3 * X^2 = 1 * X^0 + 0 * X^1\")\n",
    "poly.solve_print()\n",
    "print(f\"{poly.evaluate(poly.solve()[0]):.2f}\")\n",
    "print()"
   ]
  }
 ],
 "metadata": {
  "kernelspec": {
   "display_name": "venv",
   "language": "python",
   "name": "python3"
  },
  "language_info": {
   "codemirror_mode": {
    "name": "ipython",
    "version": 3
   },
   "file_extension": ".py",
   "mimetype": "text/x-python",
   "name": "python",
   "nbconvert_exporter": "python",
   "pygments_lexer": "ipython3",
   "version": "3.10.12"
  }
 },
 "nbformat": 4,
 "nbformat_minor": 2
}
